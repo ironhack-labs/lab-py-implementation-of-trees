{
 "cells": [
  {
   "cell_type": "markdown",
   "metadata": {},
   "source": [
    "# LAB | Implementation of Trees\n"
   ]
  },
  {
   "cell_type": "markdown",
   "metadata": {},
   "source": [
    "\n",
    "## Overview\n"
   ]
  },
  {
   "cell_type": "markdown",
   "metadata": {},
   "source": [
    "\n",
    "This lesson will cover the implementation of trees in Python, focusing on three primary operations: creating a tree, inserting data into a tree, and searching for specific data within a tree. Understanding these implementations will provide a solid foundation for working with trees in various applications.\n"
   ]
  },
  {
   "cell_type": "markdown",
   "metadata": {},
   "source": [
    "\n",
    "## Instructions\n"
   ]
  },
  {
   "cell_type": "markdown",
   "metadata": {},
   "source": [
    "\n",
    "- Complete each section by understanding the concepts and implementing the provided code.\n",
    "- Test your code to ensure it behaves as expected.\n"
   ]
  },
  {
   "cell_type": "markdown",
   "metadata": {},
   "source": [
    "\n",
    "## 1. Creating a Tree\n"
   ]
  },
  {
   "cell_type": "markdown",
   "metadata": {},
   "source": [
    "\n",
    "In this section, we will discuss how to create a simple binary tree. A binary tree is a data structure where each node has at most two children.\n"
   ]
  },
  {
   "cell_type": "markdown",
   "metadata": {},
   "source": [
    "\n",
    "### Key Concepts\n"
   ]
  },
  {
   "cell_type": "markdown",
   "metadata": {},
   "source": [
    "\n",
    "- **Node**: A basic unit of a tree containing data and references to its children.\n",
    "- **Root**: The topmost node of the tree.\n"
   ]
  },
  {
   "cell_type": "markdown",
   "metadata": {},
   "source": [
    "\n",
    "### Implementation Steps\n",
    "\n",
    "1. Create a class `Node` with data members `data`, `left`, and `right`.\n",
    "2. Create a class `BinaryTree` with a data member `root`.\n"
   ]
  },
  {
   "cell_type": "markdown",
   "metadata": {},
   "source": [
    "### Explanation\n",
    "This cell demonstrates the implementation. Take a moment to check out the code and run the cell to see how it works."
   ]
  },
  {
   "cell_type": "code",
   "execution_count": 12,
   "metadata": {},
   "outputs": [],
   "source": [
    "class Node:\n",
    "    def __init__(self, data):\n",
    "        self.data = data\n",
    "        self.left = None\n",
    "        self.right = None\n",
    "\n",
    "class BinaryTree:\n",
    "    def __init__(self):\n",
    "        self.root = None\n",
    "\n",
    "# Example usage:\n",
    "tree = BinaryTree()\n",
    "tree.root = Node(1)  # Creating root node\n",
    "tree.root.left = Node(2)  # Adding left child\n",
    "tree.root.right = Node(3)  # Adding right child\n",
    "\n"
   ]
  },
  {
   "cell_type": "markdown",
   "metadata": {},
   "source": [
    "#### PERSONAL NOTE: I do not understand from here\n",
    "- the node defines one node that can store data.\n",
    "    -  but what does left/ right do ? it defines that you could store another node left/right? how?\n",
    "- BinaryTree: it olny has got a root?\n"
   ]
  },
  {
   "cell_type": "markdown",
   "metadata": {},
   "source": [
    "### Try It Yourself!\n",
    "Modify the implementation below or try writing your own version based on what you've learned above."
   ]
  },
  {
   "cell_type": "code",
   "execution_count": 13,
   "metadata": {},
   "outputs": [],
   "source": [
    "tree2 = BinaryTree()\n",
    "tree2.root = Node(10)\n",
    "tree2.root.left = Node(20)\n",
    "tree2.root.left = Node(20)"
   ]
  },
  {
   "cell_type": "markdown",
   "metadata": {},
   "source": [
    "\n",
    "## 2. Inserting Data into a Tree\n"
   ]
  },
  {
   "cell_type": "markdown",
   "metadata": {},
   "source": [
    "\n",
    "In this section, we will implement an insertion method for our binary tree. The insertion will be done in level order.\n"
   ]
  },
  {
   "cell_type": "markdown",
   "metadata": {},
   "source": [
    "\n",
    "### Key Concepts\n",
    "\n",
    "- **Insertion**: Adding a new node to the tree while maintaining its properties.\n",
    "\n",
    "### Operations\n",
    "\n",
    "- **insert()**: Adds a new node to the tree.\n"
   ]
  },
  {
   "cell_type": "markdown",
   "metadata": {},
   "source": [
    "\n",
    "### Implementation Steps\n",
    "\n",
    "1. Implement the `insert` method in the `BinaryTree` class.\n"
   ]
  },
  {
   "cell_type": "markdown",
   "metadata": {},
   "source": [
    "### Explanation\n",
    "This cell demonstrates the implementation. Take a moment to check out the code and run the cell to see how it works."
   ]
  },
  {
   "cell_type": "code",
   "execution_count": 14,
   "metadata": {},
   "outputs": [],
   "source": [
    "\n",
    "\n",
    "from collections import deque\n",
    "\n",
    "\n",
    "\n",
    "def insert(self, data):\n",
    "    new_node = Node(data)\n",
    "    if not self.root:\n",
    "        self.root = new_node\n",
    "        return\n",
    "\n",
    "    queue = deque([self.root])\n",
    "    while queue:\n",
    "        current = queue.popleft()\n",
    "        if not current.left:\n",
    "            current.left = new_node\n",
    "            return\n",
    "        else:\n",
    "            queue.append(current.left)\n",
    "\n",
    "        if not current.right:\n",
    "            current.right = new_node\n",
    "            return\n",
    "        else:\n",
    "            queue.append(current.right)\n",
    "\n",
    "BinaryTree.insert = insert"
   ]
  },
  {
   "cell_type": "code",
   "execution_count": 15,
   "metadata": {},
   "outputs": [],
   "source": [
    "tree = BinaryTree() # --> bug! this line was missing!!\n",
    "\n",
    "# Example usage:\n",
    "tree.insert(4)\n",
    "tree.insert(5)\n",
    "\n"
   ]
  },
  {
   "cell_type": "markdown",
   "metadata": {},
   "source": [
    "### Try It Yourself!\n",
    "Modify the implementation below or try writing your own version based on what you've learned above."
   ]
  },
  {
   "cell_type": "code",
   "execution_count": 16,
   "metadata": {},
   "outputs": [],
   "source": [
    "tree2 = BinaryTree()\n",
    "tree2.insert(30)\n",
    "tree2.insert(40)"
   ]
  },
  {
   "cell_type": "markdown",
   "metadata": {},
   "source": [
    "\n",
    "## 3. Searching for Data in a Tree\n"
   ]
  },
  {
   "cell_type": "markdown",
   "metadata": {},
   "source": [
    "\n",
    "In this section, we will implement the search operation for our binary tree. This will check if a specific value exists within the tree.\n"
   ]
  },
  {
   "cell_type": "markdown",
   "metadata": {},
   "source": [
    "\n",
    "### Key Concepts\n",
    "\n",
    "- **Search**: Finding whether a specific value is present in the tree.\n",
    "\n",
    "### Operations\n",
    "\n",
    "- **search()**: Searches for specific data in the tree.\n"
   ]
  },
  {
   "cell_type": "markdown",
   "metadata": {},
   "source": [
    "\n",
    "### Implementation Steps\n",
    "\n",
    "1. Implement the `search` method in the `BinaryTree` class using breadth-first search (BFS).\n"
   ]
  },
  {
   "cell_type": "markdown",
   "metadata": {},
   "source": [
    "### Explanation\n",
    "This cell demonstrates the implementation. Take a moment to check out the code and run the cell to see how it works."
   ]
  },
  {
   "cell_type": "code",
   "execution_count": 17,
   "metadata": {},
   "outputs": [
    {
     "name": "stdout",
     "output_type": "stream",
     "text": [
      "False\n",
      "False\n"
     ]
    }
   ],
   "source": [
    "\n",
    "def search(self, key):\n",
    "    if not self.root:\n",
    "        return False\n",
    "\n",
    "    queue = deque([self.root])\n",
    "    while queue:\n",
    "        current = queue.popleft()\n",
    "        if current.data == key:\n",
    "            return True\n",
    "\n",
    "        if current.left:\n",
    "            queue.append(current.left)\n",
    "        if current.right:\n",
    "            queue.append(current.right)\n",
    "\n",
    "    return False\n",
    "BinaryTree.search = search\n",
    "\n",
    "# Example usage:\n",
    "tree = BinaryTree() # --> bug! this line was missing!!\n",
    "\n",
    "print(tree.search(4))  # Output: True\n",
    "print(tree.search(10)) # Output: False\n",
    "\n"
   ]
  },
  {
   "cell_type": "markdown",
   "metadata": {},
   "source": [
    "### Try It Yourself!\n",
    "Modify the implementation below or try writing your own version based on what you've learned above."
   ]
  },
  {
   "cell_type": "code",
   "execution_count": 26,
   "metadata": {},
   "outputs": [
    {
     "name": "stdout",
     "output_type": "stream",
     "text": [
      "True\n",
      "False\n",
      "False \n",
      "\n",
      "This whould be True: False\n"
     ]
    }
   ],
   "source": [
    "tree2 = BinaryTree()\n",
    "tree2.insert(30)\n",
    "tree2.insert(40)\n",
    "\n",
    "\n",
    "print(tree2.search(30))  # Output: True\n",
    "\n",
    "print(tree2.search(90))  # Output: True\n",
    "print(tree2.search(100), \"\\n\") # Output: False\n",
    "\n",
    "print('This whould be True:',tree2.search(10))  # Output: True\n"
   ]
  },
  {
   "cell_type": "markdown",
   "metadata": {},
   "source": [
    "\n",
    "## Exercise Completion\n"
   ]
  },
  {
   "cell_type": "markdown",
   "metadata": {},
   "source": [
    "\n",
    "Once you have completed all sections:\n",
    "\n",
    "- Review your implementations.\n",
    "- Ensure your code is well-documented with comments explaining your logic.\n",
    "- Save your notebook for submission or further review.\n"
   ]
  },
  {
   "cell_type": "markdown",
   "metadata": {},
   "source": [
    "Happy coding! Enjoy practicing Tree implementations in Python!"
   ]
  }
 ],
 "metadata": {
  "kernelspec": {
   "display_name": "base",
   "language": "python",
   "name": "python3"
  },
  "language_info": {
   "codemirror_mode": {
    "name": "ipython",
    "version": 3
   },
   "file_extension": ".py",
   "mimetype": "text/x-python",
   "name": "python",
   "nbconvert_exporter": "python",
   "pygments_lexer": "ipython3",
   "version": "3.12.7"
  }
 },
 "nbformat": 4,
 "nbformat_minor": 2
}
